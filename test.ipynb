{
 "cells": [
  {
   "cell_type": "code",
   "execution_count": 1,
   "id": "340dafff-16dd-49e6-bf5d-1c645afc6033",
   "metadata": {
    "execution": {
     "iopub.execute_input": "2023-11-05T03:37:41.241923Z",
     "iopub.status.busy": "2023-11-05T03:37:41.240923Z",
     "iopub.status.idle": "2023-11-05T03:37:41.257115Z",
     "shell.execute_reply": "2023-11-05T03:37:41.255111Z",
     "shell.execute_reply.started": "2023-11-05T03:37:41.241923Z"
    }
   },
   "outputs": [],
   "source": [
    "import osmnx as ox\n",
    "import pandas as pd"
   ]
  },
  {
   "cell_type": "code",
   "execution_count": 2,
   "metadata": {},
   "outputs": [],
   "source": [
    "\n",
    "# 指定地点的坐标或地点名称\n",
    "place_name = \"New York City, New York, USA\"\n",
    "\n",
    "# 使用 osmnx 加载 OpenStreetMap 数据\n",
    "graph = ox.graph_from_place(place_name, network_type=\"all\")\n",
    "\n",
    "# 将 OpenStreetMap 数据转换为 DataFrame\n",
    "df_nodes, df_edges = ox.graph_to_gdfs(graph)"
   ]
  },
  {
   "cell_type": "code",
   "execution_count": 4,
   "metadata": {},
   "outputs": [
    {
     "name": "stdout",
     "output_type": "stream",
     "text": [
      "Node Data:\n",
      "                  y          x  street_count  ref            highway  \\\n",
      "osmid                                                                  \n",
      "30807314  40.790720 -73.963576             4  NaN                NaN   \n",
      "30978747  40.774267 -73.973425             4  NaN                NaN   \n",
      "30978752  40.774776 -73.974360             4  NaN                NaN   \n",
      "39076461  40.786409 -73.794627             3   33  motorway_junction   \n",
      "39076490  40.762429 -73.757091             3  31W  motorway_junction   \n",
      "\n",
      "                            geometry  \n",
      "osmid                                 \n",
      "30807314  POINT (-73.96358 40.79072)  \n",
      "30978747  POINT (-73.97343 40.77427)  \n",
      "30978752  POINT (-73.97436 40.77478)  \n",
      "39076461  POINT (-73.79463 40.78641)  \n",
      "39076490  POINT (-73.75709 40.76243)  \n",
      "Edge Data:\n",
      "                             osmid    highway  oneway reversed   length  \\\n",
      "u        v          key                                                   \n",
      "30807314 4332491202 0    147089927       path   False     True   12.695   \n",
      "         2057103273 0     46613689  bridleway   False    False  159.255   \n",
      "         6579409036 0     46613689  bridleway   False     True   58.144   \n",
      "         1203806263 0    147089927       path   False    False   28.607   \n",
      "30978747 42442164   0    429504381   cycleway   False    False   18.987   \n",
      "\n",
      "                                                                  geometry  \\\n",
      "u        v          key                                                      \n",
      "30807314 4332491202 0    LINESTRING (-73.96358 40.79072, -73.96368 40.7...   \n",
      "         2057103273 0    LINESTRING (-73.96358 40.79072, -73.96360 40.7...   \n",
      "         6579409036 0    LINESTRING (-73.96358 40.79072, -73.96354 40.7...   \n",
      "         1203806263 0    LINESTRING (-73.96358 40.79072, -73.96353 40.7...   \n",
      "30978747 42442164   0    LINESTRING (-73.97343 40.77427, -73.97365 40.7...   \n",
      "\n",
      "                                          name lanes  ref maxspeed bridge  \\\n",
      "u        v          key                                                     \n",
      "30807314 4332491202 0                      NaN   NaN  NaN      NaN    NaN   \n",
      "         2057103273 0                      NaN   NaN  NaN      NaN    NaN   \n",
      "         6579409036 0                      NaN   NaN  NaN      NaN    NaN   \n",
      "         1203806263 0                      NaN   NaN  NaN      NaN    NaN   \n",
      "30978747 42442164   0    Central Park Driveway   NaN  NaN      NaN    NaN   \n",
      "\n",
      "                        service access tunnel width junction est_width area  \n",
      "u        v          key                                                      \n",
      "30807314 4332491202 0       NaN    NaN    NaN   NaN      NaN       NaN  NaN  \n",
      "         2057103273 0       NaN    NaN    NaN   NaN      NaN       NaN  NaN  \n",
      "         6579409036 0       NaN    NaN    NaN   NaN      NaN       NaN  NaN  \n",
      "         1203806263 0       NaN    NaN    NaN   NaN      NaN       NaN  NaN  \n",
      "30978747 42442164   0       NaN    NaN    NaN   NaN      NaN       NaN  NaN  \n",
      "y: [40.7907204 40.7742666 40.7747759 ... 40.619537  40.6181567 40.6181414]\n",
      "\n",
      "x: [-73.9635764 -73.973425  -73.9743601 ... -73.9583165 -73.9580445\n",
      " -73.958234 ]\n",
      "\n",
      "street_count: [4 3 1 5 6 2 7 8]\n",
      "\n",
      "ref: [nan '33' '31W' '30W' '2' '5' '1' '3' '4' '18' '17' '7' '22' '15' '16'\n",
      " '13' '23' '10' '4B' '6' '2A' '19S-W;19N' '9' '7W' '8C' '8E' '24' '1A'\n",
      " '7E' '7N-S' '1B' '19' 'C' '31E' '20B' '12B' '4E;4W' '9E' '27S;27N'\n",
      " '27N-S' '29W;29E' '39W' '2N' '22A' '11E' '24A' 'D' '10W;10E' '22B' '32'\n",
      " '11' '24B' '11W' '13W' '12' '6B' '28' '25A' '25B' '10E' '10W' '8' '2W'\n",
      " '52' '14' '7S;7N' '1D;1C' '1D-C-B' '1D-C' '2B' '8A' '8W-E' '13B' '46'\n",
      " '47' '5A' '4A' '6A' '44' '40' '45' '10W-E' '12A' '22E;22C-D' '22D;22C'\n",
      " '53' '21' '36S;36N' '35' '34' '13A;13B-C' '13D' '9P' '9W' '35A;35B' '20'\n",
      " '2S' '1&1E' '1W' '1S' 'A' '20A' '26B' '26C' '26A' '26' '4E-W' '2;1' '3B'\n",
      " '25;26' '27' '11N' '11S' '9A' '9B' '7B' '6N' '6S' '1E;1' '23B' '21B'\n",
      " '21A' '2;1B' '18B' '17N' '17W' '1B-2' '1N' '31N-S' '29' '30' '31S' '25'\n",
      " '30E' '31S;31N' '28A' '27W' '28B' '29E-W' '23A' '29E;29W' '8B' '1D' '1C'\n",
      " '7A' '7C' '48' '54' '31' '43' '39E' '1C-D' '22A-E' '51' '49' '19W' '5B'\n",
      " '1;2E' '17W-E' '35W;35E' '39' '41' '42' '32A' '29B' '32B' '17S' 'B' '8W'\n",
      " '46A' '27A' '29A' '69' '61' '63' '65' '67' 'B25' 'A2' 'B31' '13A' '35A-B'\n",
      " '15W;15S' '3A' '55' '56' '58' '59' '68' '66' '81' '82' '83' '84' '85A'\n",
      " '85B' '401701' '13B,13C' '10E-W' '11E-W' '51402' '57' '15N' '7B-A;7C'\n",
      " '92' '93' '94' '95' '98' '30-31' '7C-A' '60A' '60' '62' '64' '96' '97'\n",
      " '8E-W' '7A;7B' '5;6' '50' '89A' '89B' '88B' '88A' '86' '70' '72' '76'\n",
      " '78' '79' '77' '75' '73' '74']\n",
      "\n",
      "highway: [nan 'motorway_junction' 'traffic_signals' 'crossing' 'stop'\n",
      " 'turning_circle' 'traffic_signals;crossing' 'priority' 'turning_loop'\n",
      " 'elevator' 'bus_stop' 'toll_gantry' 'give_way' 'mini_roundabout'\n",
      " 'street_lamp' 'trailhead']\n",
      "\n",
      "geometry: <GeometryArray>\n",
      "[<POINT (-73.964 40.791)>, <POINT (-73.973 40.774)>, <POINT (-73.974 40.775)>,\n",
      " <POINT (-73.795 40.786)>, <POINT (-73.757 40.762)>, <POINT (-73.744 40.753)>,\n",
      "  <POINT (-73.96 40.798)>, <POINT (-73.961 40.799)>, <POINT (-73.963 40.799)>,\n",
      "   <POINT (-73.966 40.8)>,\n",
      " ...\n",
      " <POINT (-73.957 40.619)>, <POINT (-73.958 40.618)>, <POINT (-73.957 40.619)>,\n",
      " <POINT (-73.958 40.618)>, <POINT (-73.958 40.619)>, <POINT (-73.958 40.619)>,\n",
      " <POINT (-73.958 40.619)>,  <POINT (-73.958 40.62)>, <POINT (-73.958 40.618)>,\n",
      " <POINT (-73.958 40.618)>]\n",
      "Length: 321396, dtype: geometry\n",
      "\n"
     ]
    }
   ],
   "source": [
    "\n",
    "# 显示节点数据\n",
    "print(\"Node Data:\")\n",
    "print(df_nodes.head())\n",
    "\n",
    "# 显示边数据\n",
    "print(\"Edge Data:\")\n",
    "print(df_edges.head())\n",
    "\n",
    "for col in df_nodes.columns:\n",
    "    print(f'{col}: {str(df_nodes[col].unique())}\\n')\n"
   ]
  },
  {
   "cell_type": "code",
   "execution_count": 5,
   "metadata": {},
   "outputs": [
    {
     "data": {
      "text/plain": [
       "tuple"
      ]
     },
     "execution_count": 5,
     "metadata": {},
     "output_type": "execute_result"
    }
   ],
   "source": [
    "figsize=(50, 50)\n",
    "type(figsize)"
   ]
  },
  {
   "cell_type": "code",
   "execution_count": null,
   "metadata": {},
   "outputs": [],
   "source": []
  }
 ],
 "metadata": {
  "kernelspec": {
   "display_name": "Python 3 (ipykernel)",
   "language": "python",
   "name": "python3"
  },
  "language_info": {
   "codemirror_mode": {
    "name": "ipython",
    "version": 3
   },
   "file_extension": ".py",
   "mimetype": "text/x-python",
   "name": "python",
   "nbconvert_exporter": "python",
   "pygments_lexer": "ipython3",
   "version": "3.11.6"
  }
 },
 "nbformat": 4,
 "nbformat_minor": 5
}
